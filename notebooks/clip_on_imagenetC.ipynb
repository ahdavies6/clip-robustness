{
 "cells": [
  {
   "cell_type": "code",
   "execution_count": 14,
   "id": "d4a3426b",
   "metadata": {},
   "outputs": [
    {
     "name": "stdout",
     "output_type": "stream",
     "text": [
      "The autoreload extension is already loaded. To reload it, use:\n",
      "  %reload_ext autoreload\n"
     ]
    }
   ],
   "source": [
    "import os\n",
    "import sys\n",
    "\n",
    "clip_robustness_path = \"/home/marten4/clip-robustness\" # change to your local repo\n",
    "\n",
    "if clip_robustness_path not in sys.path:\n",
    "    sys.path.append(clip_robustness_path)\n",
    "    \n",
    "%load_ext autoreload\n",
    "%autoreload 2"
   ]
  },
  {
   "cell_type": "markdown",
   "id": "7071c8fb",
   "metadata": {},
   "source": [
    "## Download ImageNet-C"
   ]
  },
  {
   "cell_type": "code",
   "execution_count": 15,
   "id": "7903d73f",
   "metadata": {},
   "outputs": [],
   "source": [
    "import utils.io as io"
   ]
  },
  {
   "cell_type": "code",
   "execution_count": 16,
   "id": "16de1ed5",
   "metadata": {},
   "outputs": [],
   "source": [
    "parent_dir = '/scratch/marten4/imagenetC/'\n",
    "io.mkdir_if_not_exists(parent_dir)"
   ]
  },
  {
   "cell_type": "code",
   "execution_count": 20,
   "id": "fbc5d69b",
   "metadata": {},
   "outputs": [
    {
     "name": "stdout",
     "output_type": "stream",
     "text": [
      "--2022-04-06 07:32:43--  https://zenodo.org/record/2235448/files/digital.tar?download=1\n",
      "Resolving zenodo.org... 137.138.76.77\n",
      "Connecting to zenodo.org|137.138.76.77|:443... connected.\n",
      "HTTP request sent, awaiting response... 200 OK\n",
      "Length: 7757510705 (7.2G) [application/octet-stream]\n",
      "Saving to: ‘/scratch/marten4/imagenetC/digital.tar’\n",
      "\n",
      "/scratch/marten4/im 100%[===================>]   7.22G  5.09MB/s    in 21m 1s  \n",
      "\n",
      "2022-04-06 07:56:03 (5.87 MB/s) - ‘/scratch/marten4/imagenetC/digital.tar’ saved [7757510705/7757510705]\n",
      "\n",
      "--2022-04-06 07:56:03--  https://zenodo.org/record/2235448/files/extra.tar?download=1\n",
      "Resolving zenodo.org... 137.138.76.77\n",
      "Connecting to zenodo.org|137.138.76.77|:443... connected.\n",
      "HTTP request sent, awaiting response... 200 OK\n",
      "Length: 15789490144 (15G) [application/octet-stream]\n",
      "Saving to: ‘/scratch/marten4/imagenetC/extra.tar’\n",
      "\n",
      "/scratch/marten4/im 100%[===================>]  14.71G  9.88MB/s    in 45m 27s \n",
      "\n",
      "2022-04-06 08:42:09 (5.52 MB/s) - ‘/scratch/marten4/imagenetC/extra.tar’ saved [15789490144/15789490144]\n",
      "\n",
      "--2022-04-06 08:42:10--  https://zenodo.org/record/2235448/files/noise.tar?download=1\n",
      "Resolving zenodo.org... 137.138.76.77\n",
      "Connecting to zenodo.org|137.138.76.77|:443... connected.\n",
      "HTTP request sent, awaiting response... 200 OK\n",
      "Length: 22565673785 (21G) [application/octet-stream]\n",
      "Saving to: ‘/scratch/marten4/imagenetC/noise.tar’\n",
      "\n",
      "/scratch/marten4/im 100%[===================>]  21.02G  5.75MB/s    in 65m 26s \n",
      "\n",
      "2022-04-06 09:49:19 (5.48 MB/s) - ‘/scratch/marten4/imagenetC/noise.tar’ saved [22565673785/22565673785]\n",
      "\n",
      "--2022-04-06 09:49:20--  https://zenodo.org/record/2235448/files/weather.tar?download=1\n",
      "Resolving zenodo.org... 137.138.76.77\n",
      "Connecting to zenodo.org|137.138.76.77|:443... connected.\n",
      "HTTP request sent, awaiting response... 200 OK\n",
      "Length: 12797438995 (12G) [application/octet-stream]\n",
      "Saving to: ‘/scratch/marten4/imagenetC/weather.tar’\n",
      "\n",
      "                /sc  70%[=============>      ]   8.36G  4.46MB/s    eta 13m 31s"
     ]
    },
    {
     "name": "stderr",
     "output_type": "stream",
     "text": [
      "IOPub message rate exceeded.\n",
      "The notebook server will temporarily stop sending output\n",
      "to the client in order to avoid crashing it.\n",
      "To change this limit, set the config variable\n",
      "`--NotebookApp.iopub_msg_rate_limit`.\n",
      "\n",
      "Current values:\n",
      "NotebookApp.iopub_msg_rate_limit=1000.0 (msgs/sec)\n",
      "NotebookApp.rate_limit_window=3.0 (secs)\n",
      "\n"
     ]
    }
   ],
   "source": [
    "# !wget https://zenodo.org/record/2235448/files/blur.tar?download=1 -O {os.path.join(parent_dir, \"blur.tar\")}\n",
    "!wget https://zenodo.org/record/2235448/files/digital.tar?download=1 -O {os.path.join(parent_dir, \"digital.tar\")}\n",
    "!wget https://zenodo.org/record/2235448/files/extra.tar?download=1 -O {os.path.join(parent_dir, \"extra.tar\")}\n",
    "!wget https://zenodo.org/record/2235448/files/noise.tar?download=1 -O {os.path.join(parent_dir, \"noise.tar\")}\n",
    "!wget https://zenodo.org/record/2235448/files/weather.tar?download=1 -O {os.path.join(parent_dir, \"weather.tar\")}\n",
    "# tiny wget https://zenodo.org/record/2536630/files/Tiny-ImageNet-C.tar?download=1"
   ]
  },
  {
   "cell_type": "code",
   "execution_count": null,
   "id": "7fdbe0c3",
   "metadata": {},
   "outputs": [],
   "source": [
    "# !tar -xzvf /scratch/marten4/imagenetC/blur.tar\n",
    "# mv /scratch/marten4/imagenetC/blur.tar /shared/rsaas/marten4/blur.tar\n",
    "\n",
    "# !tar -xzvf /scratch/marten4/imagenetC/digital.tar\n",
    "# mv /scratch/marten4/imagenetC/digital.tar /shared/rsaas/marten4/digital.tar"
   ]
  },
  {
   "cell_type": "markdown",
   "id": "d3adaaa7",
   "metadata": {},
   "source": [
    "## Visualize Example"
   ]
  },
  {
   "cell_type": "code",
   "execution_count": null,
   "id": "a7676b6d",
   "metadata": {},
   "outputs": [],
   "source": []
  },
  {
   "cell_type": "markdown",
   "id": "40984fed",
   "metadata": {},
   "source": [
    "## Generate Predictions on an Example with CLIP"
   ]
  },
  {
   "cell_type": "code",
   "execution_count": null,
   "id": "1238542c",
   "metadata": {},
   "outputs": [],
   "source": []
  },
  {
   "cell_type": "markdown",
   "id": "393545f3",
   "metadata": {},
   "source": [
    "## Run evaluation\n",
    "https://github.com/hendrycks/robustness/blob/master/ImageNet-C/test.py"
   ]
  },
  {
   "cell_type": "code",
   "execution_count": null,
   "id": "8c1b9e2c",
   "metadata": {},
   "outputs": [],
   "source": []
  }
 ],
 "metadata": {
  "kernelspec": {
   "display_name": "Python 3 (ipykernel)",
   "language": "python",
   "name": "python3"
  },
  "language_info": {
   "codemirror_mode": {
    "name": "ipython",
    "version": 3
   },
   "file_extension": ".py",
   "mimetype": "text/x-python",
   "name": "python",
   "nbconvert_exporter": "python",
   "pygments_lexer": "ipython3",
   "version": "3.9.10"
  }
 },
 "nbformat": 4,
 "nbformat_minor": 5
}
