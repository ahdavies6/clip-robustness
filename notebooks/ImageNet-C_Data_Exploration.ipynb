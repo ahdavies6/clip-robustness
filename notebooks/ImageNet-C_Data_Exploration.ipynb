{
 "cells": [
  {
   "cell_type": "code",
   "execution_count": 22,
   "id": "defa09d5",
   "metadata": {},
   "outputs": [
    {
     "name": "stdout",
     "output_type": "stream",
     "text": [
      "The autoreload extension is already loaded. To reload it, use:\n",
      "  %reload_ext autoreload\n"
     ]
    }
   ],
   "source": [
    "import os\n",
    "import sys\n",
    "\n",
    "clip_robustness_path = \"/home/marten4/clip-robustness\" # change to your local repo\n",
    "\n",
    "if clip_robustness_path not in sys.path:\n",
    "    sys.path.append(clip_robustness_path)\n",
    "    \n",
    "%load_ext autoreload\n",
    "%autoreload 2\n",
    "\n",
    "import utils.io as io\n",
    "from PIL import Image\n",
    "import matplotlib.pyplot as plt"
   ]
  },
  {
   "cell_type": "code",
   "execution_count": 6,
   "id": "0f1a8136",
   "metadata": {},
   "outputs": [],
   "source": [
    "parent_dir = '/scratch/marten4/imagenetC/'"
   ]
  },
  {
   "cell_type": "code",
   "execution_count": 7,
   "id": "fe2813ba",
   "metadata": {},
   "outputs": [
    {
     "data": {
      "text/plain": [
       "['shot_noise',\n",
       " 'brightness',\n",
       " 'pixelate',\n",
       " 'glass_blur',\n",
       " 'motion_blur',\n",
       " 'impulse_noise',\n",
       " 'frost',\n",
       " 'jpeg_compression',\n",
       " 'contrast',\n",
       " 'defocus_blur',\n",
       " 'elastic_transform',\n",
       " 'snow',\n",
       " 'fog',\n",
       " 'gaussian_noise',\n",
       " 'zoom_blur']"
      ]
     },
     "execution_count": 7,
     "metadata": {},
     "output_type": "execute_result"
    }
   ],
   "source": [
    "distortion_types = io.list_dir(os.path.join(parent_dir, \"Tiny-ImageNet-C\"))\n",
    "distortion_types"
   ]
  },
  {
   "cell_type": "code",
   "execution_count": 16,
   "id": "7e130ff5",
   "metadata": {},
   "outputs": [
    {
     "data": {
      "text/plain": [
       "[1, 2, 3, 4, 5]"
      ]
     },
     "execution_count": 16,
     "metadata": {},
     "output_type": "execute_result"
    }
   ],
   "source": [
    "severity_levels = list(range(1,6))\n",
    "severity_levels"
   ]
  },
  {
   "cell_type": "code",
   "execution_count": 17,
   "id": "b9f97fc5",
   "metadata": {},
   "outputs": [
    {
     "data": {
      "text/plain": [
       "['n04251144',\n",
       " 'n07749582',\n",
       " 'n02321529',\n",
       " 'n04486054',\n",
       " 'n02669723',\n",
       " 'n03763968',\n",
       " 'n02226429',\n",
       " 'n03733131',\n",
       " 'n04008634',\n",
       " 'n03444034',\n",
       " 'n02094433',\n",
       " 'n07920052',\n",
       " 'n07720875',\n",
       " 'n04259630',\n",
       " 'n02906734',\n",
       " 'n02480495',\n",
       " 'n02106662',\n",
       " 'n01910747',\n",
       " 'n04398044',\n",
       " 'n04399382',\n",
       " 'n03126707',\n",
       " 'n02058221',\n",
       " 'n02666196',\n",
       " 'n02841315',\n",
       " 'n03976657',\n",
       " 'n01917289',\n",
       " 'n03902125',\n",
       " 'n02268443',\n",
       " 'n03085013',\n",
       " 'n02056570',\n",
       " 'n01984695',\n",
       " 'n01983481',\n",
       " 'n02814860',\n",
       " 'n02788148',\n",
       " 'n03400231',\n",
       " 'n02843684',\n",
       " 'n03814639',\n",
       " 'n02999410',\n",
       " 'n03404251',\n",
       " 'n03160309',\n",
       " 'n04179913',\n",
       " 'n07747607',\n",
       " 'n03980874',\n",
       " 'n02917067',\n",
       " 'n01698640',\n",
       " 'n02085620',\n",
       " 'n07768694',\n",
       " 'n03617480',\n",
       " 'n02823428',\n",
       " 'n02125311',\n",
       " 'n03838899',\n",
       " 'n04366367',\n",
       " 'n03854065',\n",
       " 'n01950731',\n",
       " 'n03355925',\n",
       " 'n09246464',\n",
       " 'n02074367',\n",
       " 'n03670208',\n",
       " 'n02814533',\n",
       " 'n03544143',\n",
       " 'n03804744',\n",
       " 'n04254777',\n",
       " 'n04487081',\n",
       " 'n03014705',\n",
       " 'n02977058',\n",
       " 'n01644900',\n",
       " 'n02509815',\n",
       " 'n02364673',\n",
       " 'n04371430',\n",
       " 'n03201208',\n",
       " 'n04596742',\n",
       " 'n02837789',\n",
       " 'n02403003',\n",
       " 'n02233338',\n",
       " 'n03706229',\n",
       " 'n07583066',\n",
       " 'n03970156',\n",
       " 'n04099969',\n",
       " 'n03042490',\n",
       " 'n02437312',\n",
       " 'n02927161',\n",
       " 'n02124075',\n",
       " 'n03393912',\n",
       " 'n07715103',\n",
       " 'n04311004',\n",
       " 'n09256479',\n",
       " 'n02002724',\n",
       " 'n03891332',\n",
       " 'n02279972',\n",
       " 'n04146614',\n",
       " 'n03637318',\n",
       " 'n01768244',\n",
       " 'n02113799',\n",
       " 'n02486410',\n",
       " 'n04597913',\n",
       " 'n03662601',\n",
       " 'n07871810',\n",
       " 'n04562935',\n",
       " 'n02950826',\n",
       " 'n07579787',\n",
       " 'n03179701',\n",
       " 'n03388043',\n",
       " 'n01944390',\n",
       " 'n07875152',\n",
       " 'n07615774',\n",
       " 'n02190166',\n",
       " 'n02395406',\n",
       " 'n09332890',\n",
       " 'n07711569',\n",
       " 'n01882714',\n",
       " 'n04265275',\n",
       " 'n02165456',\n",
       " 'n02129165',\n",
       " 'n01443537',\n",
       " 'n01774384',\n",
       " 'n04456115',\n",
       " 'n04540053',\n",
       " 'n07734744',\n",
       " 'n04507155',\n",
       " 'n01774750',\n",
       " 'n03977966',\n",
       " 'n01641577',\n",
       " 'n02948072',\n",
       " 'n01629819',\n",
       " 'n02123394',\n",
       " 'n01784675',\n",
       " 'n03447447',\n",
       " 'n04133789',\n",
       " 'n04356056',\n",
       " 'n03026506',\n",
       " 'n03937543',\n",
       " 'n04465501',\n",
       " 'n04328186',\n",
       " 'n04023962',\n",
       " 'n02504458',\n",
       " 'n04417672',\n",
       " 'n03796401',\n",
       " 'n12267677',\n",
       " 'n03983396',\n",
       " 'n07695742',\n",
       " 'n07614500',\n",
       " 'n04275548',\n",
       " 'n01770393',\n",
       " 'n02769748',\n",
       " 'n02231487',\n",
       " 'n06596364',\n",
       " 'n02793495',\n",
       " 'n02883205',\n",
       " 'n02909870',\n",
       " 'n02699494',\n",
       " 'n02791270',\n",
       " 'n04070727',\n",
       " 'n02415577',\n",
       " 'n03584254',\n",
       " 'n02099712',\n",
       " 'n02730930',\n",
       " 'n02808440',\n",
       " 'n02281406',\n",
       " 'n03837869',\n",
       " 'n02206856',\n",
       " 'n01742172',\n",
       " 'n04376876',\n",
       " 'n03100240',\n",
       " 'n01945685',\n",
       " 'n02815834',\n",
       " 'n02132136',\n",
       " 'n04560804',\n",
       " 'n04067472',\n",
       " 'n07873807',\n",
       " 'n02123045',\n",
       " 'n03649909',\n",
       " 'n07753592',\n",
       " 'n02988304',\n",
       " 'n02802426',\n",
       " 'n03255030',\n",
       " 'n03250847',\n",
       " 'n02099601',\n",
       " 'n02410509',\n",
       " 'n03599486',\n",
       " 'n04285008',\n",
       " 'n04149813',\n",
       " 'n02795169',\n",
       " 'n04074963',\n",
       " 'n04532670',\n",
       " 'n09193705',\n",
       " 'n02963159',\n",
       " 'n04501370',\n",
       " 'n02481823',\n",
       " 'n03424325',\n",
       " 'n03992509',\n",
       " 'n03930313',\n",
       " 'n09428293',\n",
       " 'n01855672',\n",
       " 'n02236044',\n",
       " 'n03089624',\n",
       " 'n02423022',\n",
       " 'n03770439',\n",
       " 'n04532106',\n",
       " 'n04118538',\n",
       " 'n02892201']"
      ]
     },
     "execution_count": 17,
     "metadata": {},
     "output_type": "execute_result"
    }
   ],
   "source": [
    "distortion_type = distortion_types[1]\n",
    "severity_level = str(5)\n",
    "\n",
    "distortion_dir = os.path.join(parent_dir, \"Tiny-ImageNet-C\", distortion_type, severity_level)\n",
    "scenes = io.list_dir(distortion_dir)\n",
    "scenes"
   ]
  },
  {
   "cell_type": "code",
   "execution_count": 18,
   "id": "97367ccb",
   "metadata": {},
   "outputs": [
    {
     "data": {
      "text/plain": [
       "['test_5749.JPEG',\n",
       " 'test_4869.JPEG',\n",
       " 'test_1165.JPEG',\n",
       " 'test_2458.JPEG',\n",
       " 'test_3829.JPEG',\n",
       " 'test_5770.JPEG',\n",
       " 'test_2530.JPEG',\n",
       " 'test_6329.JPEG',\n",
       " 'test_7478.JPEG',\n",
       " 'test_1141.JPEG',\n",
       " 'test_1769.JPEG',\n",
       " 'test_1850.JPEG',\n",
       " 'test_4849.JPEG',\n",
       " 'test_3777.JPEG',\n",
       " 'test_4020.JPEG',\n",
       " 'test_8144.JPEG',\n",
       " 'test_7932.JPEG',\n",
       " 'test_7534.JPEG',\n",
       " 'test_1072.JPEG',\n",
       " 'test_5569.JPEG',\n",
       " 'test_7321.JPEG',\n",
       " 'test_3458.JPEG',\n",
       " 'test_6303.JPEG',\n",
       " 'test_2390.JPEG',\n",
       " 'test_5255.JPEG',\n",
       " 'test_7532.JPEG',\n",
       " 'test_8334.JPEG',\n",
       " 'test_2881.JPEG',\n",
       " 'test_9376.JPEG',\n",
       " 'test_14.JPEG',\n",
       " 'test_76.JPEG',\n",
       " 'test_3093.JPEG',\n",
       " 'test_144.JPEG',\n",
       " 'test_9731.JPEG',\n",
       " 'test_8926.JPEG',\n",
       " 'test_8006.JPEG',\n",
       " 'test_6656.JPEG',\n",
       " 'test_3943.JPEG',\n",
       " 'test_6349.JPEG',\n",
       " 'test_149.JPEG',\n",
       " 'test_6047.JPEG',\n",
       " 'test_3551.JPEG',\n",
       " 'test_9330.JPEG',\n",
       " 'test_924.JPEG',\n",
       " 'test_3502.JPEG',\n",
       " 'test_2894.JPEG',\n",
       " 'test_9623.JPEG',\n",
       " 'test_1612.JPEG',\n",
       " 'test_473.JPEG',\n",
       " 'test_9396.JPEG']"
      ]
     },
     "execution_count": 18,
     "metadata": {},
     "output_type": "execute_result"
    }
   ],
   "source": [
    "scene = scenes[0]\n",
    "scene_dir = os.path.join(distortion_dir, scene)\n",
    "images = io.list_dir(scene_dir)\n",
    "images"
   ]
  },
  {
   "cell_type": "code",
   "execution_count": 24,
   "id": "ff494475",
   "metadata": {},
   "outputs": [
    {
     "data": {
      "image/png": "[encoded data removed]",
      "text/plain": [
       "<Figure size 432x288 with 1 Axes>"
      ]
     },
     "metadata": {
      "needs_background": "light"
     },
     "output_type": "display_data"
    }
   ],
   "source": [
    "image_path = os.path.join(scene_dir, images[0])\n",
    "image = Image.open(image_path)\n",
    "plt.imshow(image);"
   ]
  }
 ],
 "metadata": {
  "kernelspec": {
   "display_name": "Python 3 (ipykernel)",
   "language": "python",
   "name": "python3"
  },
  "language_info": {
   "codemirror_mode": {
    "name": "ipython",
    "version": 3
   },
   "file_extension": ".py",
   "mimetype": "text/x-python",
   "name": "python",
   "nbconvert_exporter": "python",
   "pygments_lexer": "ipython3",
   "version": "3.9.10"
  }
 },
 "nbformat": 4,
 "nbformat_minor": 5
}
